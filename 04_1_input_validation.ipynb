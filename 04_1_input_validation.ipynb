{
  "cells": [
    {
      "cell_type": "markdown",
      "metadata": {
        "id": "view-in-github",
        "colab_type": "text"
      },
      "source": [
        "<a href=\"https://colab.research.google.com/github/Usama1039/ISYS5002_2023_S2_Thursday/blob/main/04_1_input_validation.ipynb\" target=\"_parent\"><img src=\"https://colab.research.google.com/assets/colab-badge.svg\" alt=\"Open In Colab\"/></a>"
      ]
    },
    {
      "cell_type": "markdown",
      "id": "b5835b0c",
      "metadata": {
        "id": "b5835b0c"
      },
      "source": [
        "# Input Validation\n",
        "\n",
        "Input validation code verifies that user supplied data, such as text from the input() function, is formatted appropriately.\n",
        "\n",
        "* try/except\n",
        "* isdigit()\n",
        "* pyinputplus\n"
      ]
    },
    {
      "cell_type": "markdown",
      "source": [
        "## try/except\n",
        "`try/except` is a control structure in Python that is used for exception handling. It allows you to handle errors or exceptions that may occur during the execution of a block of code, so that the program can recover from the error and continue running, instead of crashing.\n",
        "\n",
        "The `try` block is used to *enclose the code that might raise an exception or an error*. If an exception occurs within the `try` block, the program jumps to the `except` block, and executes the code within it, which is designed to handle the exception.\n",
        "\n",
        "Here's the basic syntax for a `try/except` block:\n",
        "\n",
        "\n",
        "```\n",
        "try:\n",
        "    # code that may raise an exception\n",
        "except ExceptionType:\n",
        "    # code to handle the exception\n",
        "```\n",
        "\n",
        "In this example, `ExceptionType` refers to the type of exception that may be raised by the code within the `try` block. When an exception of that type occurs, the program jumps to the `except` block and executes the code within it.\n",
        "\n",
        "If an exception occurs that is not of the specified type, it will not be handled by the `except` block, and the program will terminate with an error message.\n",
        "\n",
        "`try/except` blocks can have multiple `except` blocks to handle different types of exceptions that may occur. It can also have an optional `else` block that is executed if no exceptions are raised within the `try` block.\n"
      ],
      "metadata": {
        "id": "WRX-iQ-hIwbJ"
      },
      "id": "WRX-iQ-hIwbJ"
    },
    {
      "cell_type": "markdown",
      "source": [
        "### Use `try/except` to handle an error that may occur when converting a user's input to an integer:"
      ],
      "metadata": {
        "id": "BgQWp7RRJMLk"
      },
      "id": "BgQWp7RRJMLk"
    },
    {
      "cell_type": "code",
      "source": [
        "try:\n",
        "  age=input(\"Enter your age\")\n",
        "  Age_entered=int(age)\n",
        "except ValueError:\n",
        "  print(\"Enter a Valid Number \\nIt is a wrong number\")\n",
        "  #print(\"Your age is 25\")\n",
        "\n"
      ],
      "metadata": {
        "id": "CuiSM1VmTYvW",
        "colab": {
          "base_uri": "https://localhost:8080/"
        },
        "outputId": "b53b2a67-510e-4d2b-e8c5-e2db68a2debe"
      },
      "id": "CuiSM1VmTYvW",
      "execution_count": 22,
      "outputs": [
        {
          "output_type": "stream",
          "name": "stdout",
          "text": [
            "Enter your age5t\n",
            "Enter a Valid Number \n",
            "It is a wrong number\n"
          ]
        }
      ]
    },
    {
      "cell_type": "markdown",
      "source": [
        "In this example, the try block contains the code that attempts to convert the user's input to an integer using the int() function. If the user enters a string that cannot be converted to an integer, a ValueError exception is raised.\n",
        "\n",
        "The except block that follows the try block handles the ValueError exception, and prints an error message asking the user to enter a whole number for their age.\n",
        "\n",
        "Using try/except in this way ensures that the program doesn't crash if the user enters invalid input. Instead, it catches the error and executes the code in the except block to handle the error."
      ],
      "metadata": {
        "id": "xKZCTdx-JXva"
      },
      "id": "xKZCTdx-JXva"
    },
    {
      "cell_type": "markdown",
      "source": [
        "### Use a `while` loop to keep prompting the user to enter their age until they enter a valid integer:"
      ],
      "metadata": {
        "id": "V0ivzQuuLz9H"
      },
      "id": "V0ivzQuuLz9H"
    },
    {
      "cell_type": "code",
      "source": [
        "age=0\n",
        "while age==0:\n",
        "      try:\n",
        "          age=input(\"Enter your age\")\n",
        "          Age_entered=int(age)\n",
        "      except ValueError:\n",
        "             print(\"Enter a valid Number \\n It is a wrong Value\")"
      ],
      "metadata": {
        "id": "PaBvbJcbLDgu",
        "colab": {
          "base_uri": "https://localhost:8080/"
        },
        "outputId": "41aa22ed-77e4-4ee9-c418-5d278e261fb4"
      },
      "id": "PaBvbJcbLDgu",
      "execution_count": 26,
      "outputs": [
        {
          "output_type": "stream",
          "name": "stdout",
          "text": [
            "Enter your age7u\n",
            "Enter a valid Number \n",
            " It is a wrong Value\n"
          ]
        }
      ]
    },
    {
      "cell_type": "code",
      "source": [
        "age=0\n",
        "while True:\n",
        "      try:\n",
        "          age=input(\"Enter your Age\")\n",
        "          age_entered=int(age)\n",
        "          break\n",
        "      except ValueError:\n",
        "       print(\"Enter a valid Number \\n This is wrong Value\")"
      ],
      "metadata": {
        "colab": {
          "base_uri": "https://localhost:8080/"
        },
        "id": "hAlEWmSudCVZ",
        "outputId": "46b01db1-3a25-45b9-b8e5-4541e476af95"
      },
      "id": "hAlEWmSudCVZ",
      "execution_count": 27,
      "outputs": [
        {
          "name": "stdout",
          "output_type": "stream",
          "text": [
            "Enter your Aget5t\n",
            "Enter a valid Number \n",
            " This is wrong Value\n",
            "Enter your Age5s\n",
            "Enter a valid Number \n",
            " This is wrong Value\n",
            "Enter your Age56\n"
          ]
        }
      ]
    },
    {
      "cell_type": "markdown",
      "id": "acc7252b",
      "metadata": {
        "id": "acc7252b"
      },
      "source": [
        "## isdigit()\n",
        "\n",
        "In Python, `isdigit()` is a method that can be called on a string object to check if all characters in the string are digits.\n",
        "\n",
        "It returns `True` if all characters in the string are digits and there is at least one character in the string, otherwise it returns False.\n",
        "\n",
        "`isdigit()` is often used to validate user input for numeric values, like checking if the user entered an integer or a floating-point number. For example, if you expect the user to enter their age as an integer, you could use `isdigit()` to ensure that the input only contains digits before converting it to an integer.\n",
        "\n",
        "### Use `isdigit()` to validate user input for an integer:"
      ]
    },
    {
      "cell_type": "code",
      "execution_count": 39,
      "id": "5f98c241",
      "metadata": {
        "id": "5f98c241",
        "colab": {
          "base_uri": "https://localhost:8080/"
        },
        "outputId": "82ff6d71-a018-4ae4-ff70-e8fc7ef93e46"
      },
      "outputs": [
        {
          "name": "stdout",
          "output_type": "stream",
          "text": [
            "Enter your Age5y\n",
            "Enter a Valid Number \n",
            " It is a wrong Value\n",
            "Enter your Age6y\n",
            "Enter a Valid Number \n",
            " It is a wrong Value\n",
            "Enter your Age45\n"
          ]
        }
      ],
      "source": [
        "while True:\n",
        "  age=input(\"Enter your Age\")\n",
        "  if age.isdigit():\n",
        "    age_entered=int(age)\n",
        "    break\n",
        "  else:\n",
        "             print(\"Enter a Valid Number \\n It is a wrong Value\")"
      ]
    },
    {
      "cell_type": "markdown",
      "id": "18c00dc3",
      "metadata": {
        "id": "18c00dc3"
      },
      "source": [
        "## Module: PyInputPlus\n",
        "\n",
        "`pyinputplus` is a Python module that provides input validation functions to simplify the process of getting user input from the command line. It can handle various types of input validation, such as integers, floating-point numbers, dates and times, email addresses, and more. It also provides more robust error handling than the built-in `input()` function in Python."
      ]
    },
    {
      "cell_type": "code",
      "execution_count": 49,
      "id": "dfe1740b",
      "metadata": {
        "id": "dfe1740b",
        "colab": {
          "base_uri": "https://localhost:8080/"
        },
        "outputId": "675f90fe-3961-417e-e835-b98d8e54db88"
      },
      "outputs": [
        {
          "output_type": "stream",
          "name": "stdout",
          "text": [
            "Requirement already satisfied: PyInputPlus in /usr/local/lib/python3.10/dist-packages (0.2.12)\n",
            "Requirement already satisfied: pysimplevalidate>=0.2.7 in /usr/local/lib/python3.10/dist-packages (from PyInputPlus) (0.2.12)\n",
            "Requirement already satisfied: stdiomask>=0.0.3 in /usr/local/lib/python3.10/dist-packages (from PyInputPlus) (0.0.6)\n"
          ]
        }
      ],
      "source": [
        "# install the module\n",
        "!pip install PyInputPlus\n"
      ]
    },
    {
      "cell_type": "code",
      "execution_count": 51,
      "id": "9a52f49e",
      "metadata": {
        "id": "9a52f49e",
        "colab": {
          "base_uri": "https://localhost:8080/"
        },
        "outputId": "6f8d46d4-0bf3-49f4-c3a0-12f1d91f3d78"
      },
      "outputs": [
        {
          "output_type": "stream",
          "name": "stdout",
          "text": [
            "Enter age12\n",
            "Number must be at minimum 18.\n",
            "Enter age17\n",
            "Number must be at minimum 18.\n",
            "Enter age18\n",
            "Your age is 18\n"
          ]
        }
      ],
      "source": [
        "import pyinputplus as pyip\n",
        "response=pyip.inputInt(\"Enter age\", min=18)\n",
        "print(\"Your age is\", response)\n",
        "\n"
      ]
    },
    {
      "cell_type": "code",
      "execution_count": null,
      "id": "28ee4733",
      "metadata": {
        "id": "28ee4733"
      },
      "outputs": [],
      "source": []
    }
  ],
  "metadata": {
    "kernelspec": {
      "display_name": "Python 3 (ipykernel)",
      "language": "python",
      "name": "python3"
    },
    "language_info": {
      "codemirror_mode": {
        "name": "ipython",
        "version": 3
      },
      "file_extension": ".py",
      "mimetype": "text/x-python",
      "name": "python",
      "nbconvert_exporter": "python",
      "pygments_lexer": "ipython3",
      "version": "3.9.7"
    },
    "colab": {
      "provenance": [],
      "include_colab_link": true
    }
  },
  "nbformat": 4,
  "nbformat_minor": 5
}