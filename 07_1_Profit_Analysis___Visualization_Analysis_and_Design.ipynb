{
  "nbformat": 4,
  "nbformat_minor": 0,
  "metadata": {
    "colab": {
      "provenance": [],
      "include_colab_link": true
    },
    "kernelspec": {
      "name": "python3",
      "display_name": "Python 3"
    },
    "language_info": {
      "name": "python"
    }
  },
  "cells": [
    {
      "cell_type": "markdown",
      "metadata": {
        "id": "view-in-github",
        "colab_type": "text"
      },
      "source": [
        "<a href=\"https://colab.research.google.com/github/Usama1039/ISYS5002_2023_S2_Thursday/blob/main/07_1_Profit_Analysis___Visualization_Analysis_and_Design.ipynb\" target=\"_parent\"><img src=\"https://colab.research.google.com/assets/colab-badge.svg\" alt=\"Open In Colab\"/></a>"
      ]
    },
    {
      "cell_type": "markdown",
      "source": [
        "# Instructions:\n",
        "\n",
        "Work in pair and design and develop a program for the following task.\n",
        "\n",
        "Create two notebooks:\n",
        "* an analysis and design notebook/report (which includes analysis and design  discussion)\n",
        "* a development notebook which includes pseudocode, step-by-step code developement process, testing, and any other industry best practice\n"
      ],
      "metadata": {
        "id": "9mAf65K4_5Jv"
      }
    },
    {
      "cell_type": "markdown",
      "source": [
        "# Problem Statement:\n",
        "\n",
        "You work for a global retail company that operates in various regions around the world, including the Australia and Oceania region. The company stores sales data in a CSV file named \"sales.csv,\" which contains information about sales and profits in different countries. You are tasked with developing a program to analyze sales data stored in a CSV file named \"sales.csv\" for countries within the Australia and Oceania region. The program should calculate the maximum, minimum, and average profit for each country in this region and create a bar graph displaying the total profit for each country. This visualization aims to provide insights into the financial performance of countries in the Australia and Oceania region, helping your global retail company make informed decisions."
      ],
      "metadata": {
        "id": "u-SczfmD8z4W"
      }
    },
    {
      "cell_type": "code",
      "source": [],
      "metadata": {
        "id": "XGwKhJf03WiY"
      },
      "execution_count": null,
      "outputs": []
    },
    {
      "cell_type": "markdown",
      "source": [
        "### Step 1: State the Problem clearly\n",
        "1. Read data from provided file (e.g. CSV)\n",
        "2. Filter countries in AU and Oceania\n",
        "3. Calculate max, min, avg profit for each country in the region\n",
        "4. Plot the total profit for each country as a bar graph\n"
      ],
      "metadata": {
        "id": "83IFnY7b00mZ"
      }
    },
    {
      "cell_type": "markdown",
      "source": [
        "### Step 2: Define Input and Output\n",
        "## Input\n",
        "*data file provided by sales department (csv)\n",
        "## Output\n",
        "max, min, avg per country in a csv bar graph\n"
      ],
      "metadata": {
        "id": "yS7EXPQO1ihX"
      }
    },
    {
      "cell_type": "markdown",
      "source": [
        "### Step 3: Working an example by hand\n",
        "Australia min is....max is"
      ],
      "metadata": {
        "id": "1rKsMzbd3JJA"
      }
    },
    {
      "cell_type": "markdown",
      "source": [
        "### Step 4: Develope an algorithm (and convert to Python)\n"
      ],
      "metadata": {
        "id": "NKjuq7S44NSH"
      }
    },
    {
      "cell_type": "code",
      "source": [
        "months = ['jan', 'feb', 'mar']\n",
        "for m in months:\n",
        "  print (m)\n"
      ],
      "metadata": {
        "colab": {
          "base_uri": "https://localhost:8080/"
        },
        "id": "UVj51ovl6PEv",
        "outputId": "68021c74-cdf5-4ae2-ca5a-faf571128165"
      },
      "execution_count": 11,
      "outputs": [
        {
          "output_type": "stream",
          "name": "stdout",
          "text": [
            "jan\n",
            "feb\n",
            "mar\n"
          ]
        }
      ]
    },
    {
      "cell_type": "markdown",
      "source": [],
      "metadata": {
        "id": "DGT4DD6B8r5W"
      }
    }
  ]
}