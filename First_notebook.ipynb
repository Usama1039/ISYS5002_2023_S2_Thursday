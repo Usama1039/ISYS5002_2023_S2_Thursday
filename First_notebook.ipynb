{
  "nbformat": 4,
  "nbformat_minor": 0,
  "metadata": {
    "colab": {
      "provenance": [],
      "authorship_tag": "ABX9TyPJzOCDbgBQR6+s5Y0gT/wR",
      "include_colab_link": true
    },
    "kernelspec": {
      "name": "python3",
      "display_name": "Python 3"
    },
    "language_info": {
      "name": "python"
    }
  },
  "cells": [
    {
      "cell_type": "markdown",
      "metadata": {
        "id": "view-in-github",
        "colab_type": "text"
      },
      "source": [
        "<a href=\"https://colab.research.google.com/github/Usama1039/ISYS5002_2023_S2_Thursday/blob/main/First_notebook.ipynb\" target=\"_parent\"><img src=\"https://colab.research.google.com/assets/colab-badge.svg\" alt=\"Open In Colab\"/></a>"
      ]
    },
    {
      "cell_type": "markdown",
      "source": [
        "Name"
      ],
      "metadata": {
        "id": "IsE-FGE1eAWJ"
      }
    },
    {
      "cell_type": "markdown",
      "source": [
        "Student ID"
      ],
      "metadata": {
        "id": "USVb6pqEeDPB"
      }
    },
    {
      "cell_type": "markdown",
      "source": [
        "Address"
      ],
      "metadata": {
        "id": "0ILYCTHDeHoh"
      }
    },
    {
      "cell_type": "code",
      "source": [
        "print(\"Usama Hayyat\")"
      ],
      "metadata": {
        "colab": {
          "base_uri": "https://localhost:8080/"
        },
        "id": "YwAPM3G-dllI",
        "outputId": "f367480d-8c6d-4557-d157-d8dac6e6318b"
      },
      "execution_count": null,
      "outputs": [
        {
          "output_type": "stream",
          "name": "stdout",
          "text": [
            "Usama Hayyat\n"
          ]
        }
      ]
    },
    {
      "cell_type": "code",
      "source": [
        "print(\"21342204\")"
      ],
      "metadata": {
        "id": "vJItp497dzUR"
      },
      "execution_count": null,
      "outputs": []
    },
    {
      "cell_type": "code",
      "source": [
        "print(\"17 Bunderra CL\")"
      ],
      "metadata": {
        "id": "KC1afzyZd2_h"
      },
      "execution_count": null,
      "outputs": []
    }
  ]
}