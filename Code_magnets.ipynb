{
  "nbformat": 4,
  "nbformat_minor": 0,
  "metadata": {
    "colab": {
      "provenance": [],
      "authorship_tag": "ABX9TyNGqpCkWfozrrBRoJNsEZta",
      "include_colab_link": true
    },
    "kernelspec": {
      "name": "python3",
      "display_name": "Python 3"
    },
    "language_info": {
      "name": "python"
    }
  },
  "cells": [
    {
      "cell_type": "markdown",
      "metadata": {
        "id": "view-in-github",
        "colab_type": "text"
      },
      "source": [
        "<a href=\"https://colab.research.google.com/github/Usama1039/ISYS5002_2023_S2_Thursday/blob/main/Code_magnets.ipynb\" target=\"_parent\"><img src=\"https://colab.research.google.com/assets/colab-badge.svg\" alt=\"Open In Colab\"/></a>"
      ]
    },
    {
      "cell_type": "markdown",
      "source": [
        "**Steps/Algorithm:**\n",
        "\n",
        "1. Crack three eggs into Bowl\n",
        "2. Whip Eggs\n",
        "3. While eggs aren’t fully mixed\n",
        "4. Transfer eggs to pan\n",
        "5. Heat sauce pan\n",
        "6. Stir eggs\n",
        "7. While eggs aren’t fully cooked\n",
        "8. Remove pan from heat\n",
        "9. If the customer ordered cheese\n",
        "10. add cheese on\n",
        "11. Serve\n"
      ],
      "metadata": {
        "id": "T0kWyR4LvffI"
      }
    }
  ]
}